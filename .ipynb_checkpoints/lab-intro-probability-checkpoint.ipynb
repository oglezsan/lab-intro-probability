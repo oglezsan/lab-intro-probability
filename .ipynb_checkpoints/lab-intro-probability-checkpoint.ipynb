{
 "cells": [
  {
   "cell_type": "markdown",
   "metadata": {},
   "source": [
    "# Lab | Intro to Probability"
   ]
  },
  {
   "cell_type": "markdown",
   "metadata": {},
   "source": [
    "**Objective**\n",
    "\n",
    "Welcome to this Intro to Probability lab, where we explore decision-making scenarios through the lens of probability and strategic analysis. In the business world, making informed decisions is crucial, especially when faced with uncertainties. This lab focuses on scenarios where probabilistic outcomes play a significant role in shaping strategies and outcomes. Students will engage in exercises that require assessing and choosing optimal paths based on data-driven insights. The goal is to enhance your skills by applying probability concepts to solve real-world problems."
   ]
  },
  {
   "cell_type": "markdown",
   "metadata": {},
   "source": [
    "**Challenge 1**"
   ]
  },
  {
   "cell_type": "markdown",
   "metadata": {},
   "source": [
    "#### Ironhack Airlines \n",
    "\n",
    "Often Airlines sell more tickets than they have seats available, this is called overbooking. Consider the following:\n",
    "- A plane has 450 seats. \n",
    "- Based on historical data we conclude that each individual passenger has a 3% chance of missing it's flight. \n",
    "\n",
    "If the Ironhack Airlines routinely sells 460 tickets, what is the chance that they have a seats for all passenger?"
   ]
  },
  {
   "cell_type": "code",
   "execution_count": 4,
   "metadata": {},
   "outputs": [
    {
     "name": "stdout",
     "output_type": "stream",
     "text": [
      "The probability that all passengers will have a seat is approximately 0.88\n"
     ]
    }
   ],
   "source": [
    "import scipy.stats as stats\n",
    "\n",
    "# Parameters\n",
    "n = 460\n",
    "p = 0.97\n",
    "seat_capacity = 450\n",
    "\n",
    "# Binomial distribution\n",
    "mean = n * p\n",
    "std_dev = (n * p * (1 - p)) ** 0.5\n",
    "\n",
    "# Using continuity correction\n",
    "z = (seat_capacity + 0.5 - mean) / std_dev\n",
    "\n",
    "# Probability using the normal distribution\n",
    "prob = stats.norm.cdf(z)\n",
    "\n",
    "print(f\"The probability that all passengers will have a seat is approximately {prob:.2f}\")\n"
   ]
  },
  {
   "cell_type": "markdown",
   "metadata": {},
   "source": [
    "**Challenge 2**"
   ]
  },
  {
   "cell_type": "markdown",
   "metadata": {},
   "source": [
    "#### Ironhack Call Center "
   ]
  },
  {
   "cell_type": "markdown",
   "metadata": {},
   "source": [
    "Suppose a customer service representative at a call center is handling customer complaints. Consider the following:\n",
    "- The probability of successfully resolving a customer complaint on the first attempt is 0.3. \n",
    "\n",
    "\n",
    "What is the probability that the representative needs to make at least three attempts before successfully resolving a customer complaint?"
   ]
  },
  {
   "cell_type": "code",
   "execution_count": 8,
   "metadata": {},
   "outputs": [
    {
     "name": "stdout",
     "output_type": "stream",
     "text": [
      "The probability that the representative needs at least three attempts is 0.49\n"
     ]
    }
   ],
   "source": [
    "# Probability of success\n",
    "p = 0.3\n",
    "\n",
    "# Probability of needing at least 3 attempts\n",
    "prob = (1 - p) ** 2\n",
    "\n",
    "print(f\"The probability that the representative needs at least three attempts is {prob:.2f}\")\n"
   ]
  },
  {
   "cell_type": "markdown",
   "metadata": {},
   "source": [
    "**Challenge 3**"
   ]
  },
  {
   "cell_type": "markdown",
   "metadata": {},
   "source": [
    "#### Ironhack Website"
   ]
  },
  {
   "cell_type": "markdown",
   "metadata": {},
   "source": [
    "Consider a scenario related to Ironhack website traffic. Where:\n",
    "- our website takes on average 500 visits per hour.\n",
    "- the website's server is designed to handle up to 550 vists per hour.\n",
    "\n",
    "\n",
    "What is the probability of the website server being overwhelmed?"
   ]
  },
  {
   "cell_type": "code",
   "execution_count": 14,
   "metadata": {},
   "outputs": [
    {
     "name": "stdout",
     "output_type": "stream",
     "text": [
      "The probability of the server being overwhelmed in a single hour is 0.01\n"
     ]
    }
   ],
   "source": [
    "import scipy.stats as stats\n",
    "\n",
    "# Parameters\n",
    "lambda_per_hour = 500\n",
    "threshold = 550\n",
    "\n",
    "# Probability of being overwhelmed in a single hour\n",
    "prob_hourly = 1 - stats.poisson.cdf(threshold, lambda_per_hour)\n",
    "\n",
    "print(f\"The probability of the server being overwhelmed in a single hour is {prob_hourly:.2f}\")\n"
   ]
  },
  {
   "cell_type": "markdown",
   "metadata": {},
   "source": [
    "What is the probability of being overwhelmed at some point during a day? (consider 24hours)"
   ]
  },
  {
   "cell_type": "code",
   "execution_count": 16,
   "metadata": {},
   "outputs": [
    {
     "name": "stdout",
     "output_type": "stream",
     "text": [
      "The probability of the server being overwhelmed at least once in 24 hours is 0.27\n"
     ]
    }
   ],
   "source": [
    "#Probability of being overwhelmed at least once in 24 hours\n",
    "prob_daily = 1 - (1 - prob_hourly) ** 24\n",
    "\n",
    "print(f\"The probability of the server being overwhelmed at least once in 24 hours is {prob_daily:.2f}\")"
   ]
  },
  {
   "cell_type": "markdown",
   "metadata": {},
   "source": [
    "**Challenge 4**"
   ]
  },
  {
   "cell_type": "markdown",
   "metadata": {},
   "source": [
    "#### Ironhack Helpdesk"
   ]
  },
  {
   "cell_type": "markdown",
   "metadata": {},
   "source": [
    "Consider a scenario related to the time between arrivals of customers at a service desk.\n",
    "\n",
    "On average, a customers arrives every 10minutes.\n",
    "\n",
    "What is the probability that the next customer will arrive within the next 5 minutes?"
   ]
  },
  {
   "cell_type": "code",
   "execution_count": 18,
   "metadata": {},
   "outputs": [
    {
     "name": "stdout",
     "output_type": "stream",
     "text": [
      "The probability that the next customer arrives within the next 5 minutes is 0.61\n"
     ]
    }
   ],
   "source": [
    "# Average time between arrivals\n",
    "lambda_per_minute = 1 / 10  # since one customer arrives every 10 minutes\n",
    "\n",
    "# Probability that the next customer arrives within the next 5 minutes\n",
    "prob_5_min = 1 - stats.expon.cdf(5, scale=1/lambda_per_minute)\n",
    "\n",
    "print(f\"The probability that the next customer arrives within the next 5 minutes is {prob_5_min:.2f}\")"
   ]
  },
  {
   "cell_type": "markdown",
   "metadata": {},
   "source": [
    "If there is no customer for 15minutes, employees can that a 5minutes break.\n",
    "\n",
    "What is the probability an employee taking a break?"
   ]
  },
  {
   "cell_type": "code",
   "execution_count": 20,
   "metadata": {},
   "outputs": [
    {
     "name": "stdout",
     "output_type": "stream",
     "text": [
      "The probability that no customer arrives for 15 minutes (so an employee can take a break) is 0.7769\n"
     ]
    }
   ],
   "source": [
    "# Probability that no customer arrives for 15 minutes\n",
    "prob_15_min = stats.expon.cdf(15, scale=1/lambda_per_minute)\n",
    "\n",
    "print(f\"The probability that no customer arrives for 15 minutes (so an employee can take a break) is {prob_15_min:.4f}\")"
   ]
  },
  {
   "cell_type": "markdown",
   "metadata": {},
   "source": [
    "**Challenge 5**"
   ]
  },
  {
   "cell_type": "markdown",
   "metadata": {},
   "source": [
    "The weights of a certain species of birds follow a normal distribution with a mean weight of 150 grams and a standard deviation of 10 grams. \n",
    "\n",
    "- If we randomly select a bird, what is the probability that its weight is between 140 and 160 grams?"
   ]
  },
  {
   "cell_type": "code",
   "execution_count": 22,
   "metadata": {},
   "outputs": [
    {
     "name": "stdout",
     "output_type": "stream",
     "text": [
      "The probability that the bird's weight is between 140 and 160 grams is 0.6827\n"
     ]
    }
   ],
   "source": [
    "# Parameters\n",
    "mean = 150\n",
    "std_dev = 10\n",
    "lower_bound = 140\n",
    "upper_bound = 160\n",
    "\n",
    "# Probability that the bird's weight is between 140 and 160 grams\n",
    "prob = stats.norm.cdf(upper_bound, mean, std_dev) - stats.norm.cdf(lower_bound, mean, std_dev)\n",
    "\n",
    "print(f\"The probability that the bird's weight is between 140 and 160 grams is {prob:.4f}\")\n"
   ]
  },
  {
   "cell_type": "markdown",
   "metadata": {},
   "source": [
    "**Challenge 6**"
   ]
  },
  {
   "cell_type": "markdown",
   "metadata": {},
   "source": [
    "If the lifetime (in hours) of a certain electronic component follows an exponential distribution with a mean lifetime of 50 hours, what is the probability that the component fails within the first 30 hours?"
   ]
  },
  {
   "cell_type": "code",
   "execution_count": 24,
   "metadata": {},
   "outputs": [
    {
     "name": "stdout",
     "output_type": "stream",
     "text": [
      "The probability that the component fails within the first 30 hours is 0.4512\n"
     ]
    }
   ],
   "source": [
    "# Parameters\n",
    "mean_lifetime = 50\n",
    "lambda_failure = 1 / mean_lifetime\n",
    "time = 30\n",
    "\n",
    "# Probability that the component fails within the first 30 hours\n",
    "prob_failure = stats.expon.cdf(time, scale=1/lambda_failure)\n",
    "\n",
    "print(f\"The probability that the component fails within the first 30 hours is {prob_failure:.4f}\")\n"
   ]
  },
  {
   "cell_type": "code",
   "execution_count": null,
   "metadata": {},
   "outputs": [],
   "source": []
  }
 ],
 "metadata": {
  "kernelspec": {
   "display_name": "Python 3 (ipykernel)",
   "language": "python",
   "name": "python3"
  },
  "language_info": {
   "codemirror_mode": {
    "name": "ipython",
    "version": 3
   },
   "file_extension": ".py",
   "mimetype": "text/x-python",
   "name": "python",
   "nbconvert_exporter": "python",
   "pygments_lexer": "ipython3",
   "version": "3.11.7"
  }
 },
 "nbformat": 4,
 "nbformat_minor": 4
}
